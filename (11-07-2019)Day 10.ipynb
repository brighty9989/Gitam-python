{
 "cells": [
  {
   "cell_type": "markdown",
   "metadata": {},
   "source": [
    "### Standard Libraries\n",
    "* File I/O\n",
    "* Regular Expression\n",
    "* Datetime\n",
    "* Math (numerical and Mathematics)"
   ]
  },
  {
   "cell_type": "markdown",
   "metadata": {},
   "source": [
    "### File Handling in python\n",
    "* File:- Document containing information resides on the permenant storage\n",
    "* Different types of files :- txt,doc,pdf,csv and etc\n",
    "* Input -- Keyboard\n",
    "* Output -- File\n",
    "### Modes of the file I/O\n",
    "* 'W'-- This mode is used to file writing\n",
    "    * -- If the file is not present first it created the file and write some data to it\n",
    "    * -- If the file is already present then it will rewrite the previous content"
   ]
  },
  {
   "cell_type": "code",
   "execution_count": 13,
   "metadata": {},
   "outputs": [
    {
     "name": "stdout",
     "output_type": "stream",
     "text": [
      "File is created and data has written\n"
     ]
    }
   ],
   "source": [
    "#Functions to create a file and write to the file\n",
    "def createfile(filename):\n",
    "    f=open(filename,'w')\n",
    "    for i in range(10):\n",
    "        f.write('This is %d line/t'%i)\n",
    "    print(\"File is created and data has written\")\n",
    "    return\n",
    "createfile('file1.txt')"
   ]
  },
  {
   "cell_type": "code",
   "execution_count": 2,
   "metadata": {},
   "outputs": [
    {
     "name": "stdout",
     "output_type": "stream",
     "text": [
      " Volume in drive C is Windows\n",
      " Volume Serial Number is A2C6-E07E\n",
      "\n",
      " Directory of C:\\Users\\brigh\\python\n",
      "\n",
      "11-07-2019  09:30             1,448 (11-07-2019)Day 10.ipynb\n",
      "11-07-2019  09:31    <DIR>          .\n",
      "11-07-2019  09:31    <DIR>          ..\n",
      "11-07-2019  09:20    <DIR>          .ipynb_checkpoints\n",
      "10-07-2019  12:04            16,209 09-07-2019.ipynb\n",
      "11-07-2019  09:20            19,596 10-07-2019(Day 9).ipynb\n",
      "05-07-2019  15:52             9,884 5 JULY 2019 -python intro.ipynb\n",
      "06-07-2019  12:52           917,381 6 july 2019 python second day.ipynb\n",
      "10-07-2019  14:23             2,686 assignment.ipynb\n",
      "10-07-2019  15:20             3,760 assignment10.ipynb\n",
      "08-07-2019  17:17            13,467 day 8-07-2019.ipynb\n",
      "05-07-2019  17:26             1,165 EXAMPLES.ipynb\n",
      "11-07-2019  09:31               140 file1.txt\n",
      "06-07-2019  09:25               555 Untitled.ipynb\n",
      "              11 File(s)        986,291 bytes\n",
      "               3 Dir(s)  919,784,882,176 bytes free\n"
     ]
    }
   ],
   "source": [
    "ls"
   ]
  },
  {
   "cell_type": "code",
   "execution_count": 7,
   "metadata": {},
   "outputs": [
    {
     "ename": "SyntaxError",
     "evalue": "invalid syntax (<ipython-input-7-0bccb725251b>, line 1)",
     "output_type": "error",
     "traceback": [
      "\u001b[1;36m  File \u001b[1;32m\"<ipython-input-7-0bccb725251b>\"\u001b[1;36m, line \u001b[1;32m1\u001b[0m\n\u001b[1;33m    cat file1.txt\u001b[0m\n\u001b[1;37m            ^\u001b[0m\n\u001b[1;31mSyntaxError\u001b[0m\u001b[1;31m:\u001b[0m invalid syntax\n"
     ]
    }
   ],
   "source": [
    "cat "
   ]
  },
  {
   "cell_type": "code",
   "execution_count": 22,
   "metadata": {},
   "outputs": [
    {
     "name": "stdout",
     "output_type": "stream",
     "text": [
      "Testing..\n",
      "\n",
      "File is created and data has written\n"
     ]
    }
   ],
   "source": [
    "\n",
    "def createfile(filename):\n",
    "    f=open(filename,'w')\n",
    "    print('Testing..\\n')\n",
    "    print(\"File is created and data has written\")\n",
    "    return\n",
    "createfile('file1.txt')"
   ]
  },
  {
   "cell_type": "code",
   "execution_count": 23,
   "metadata": {},
   "outputs": [
    {
     "name": "stdout",
     "output_type": "stream",
     "text": [
      "This is 0 line\n",
      "\n",
      "File created and successfully data written\n"
     ]
    }
   ],
   "source": [
    "def appenddata(filename):\n",
    "    f=open(filename,'a')\n",
    "    for i in range(10):\n",
    "        print(\"This is %d line\\n\"%i)\n",
    "        print(\"File created and successfully data written\")\n",
    "        return\n",
    "appenddata('file2.txt')"
   ]
  },
  {
   "cell_type": "code",
   "execution_count": 31,
   "metadata": {},
   "outputs": [
    {
     "name": "stdout",
     "output_type": "stream",
     "text": [
      "File created and successfully data written\n"
     ]
    }
   ],
   "source": [
    "def appenddata(filename):\n",
    "    f=open(filename,'a')\n",
    "    f.write(\"new line 1\\n\")\n",
    "    f.write(\"new line 2\\n\")\n",
    "    print(\"File created and successfully data written\")\n",
    "    f.close()\n",
    "    return\n",
    "appenddata('file2.txt')"
   ]
  },
  {
   "cell_type": "code",
   "execution_count": 29,
   "metadata": {},
   "outputs": [
    {
     "name": "stdout",
     "output_type": "stream",
     "text": [
      " Volume in drive C is Windows\n",
      " Volume Serial Number is A2C6-E07E\n",
      "\n",
      " Directory of C:\\Users\\brigh\\python\n",
      "\n",
      "11-07-2019  10:00             5,271 (11-07-2019)Day 10.ipynb\n",
      "11-07-2019  10:00    <DIR>          .\n",
      "11-07-2019  10:00    <DIR>          ..\n",
      "11-07-2019  09:20    <DIR>          .ipynb_checkpoints\n",
      "10-07-2019  12:04            16,209 09-07-2019.ipynb\n",
      "11-07-2019  09:20            19,596 10-07-2019(Day 9).ipynb\n",
      "05-07-2019  15:52             9,884 5 JULY 2019 -python intro.ipynb\n",
      "06-07-2019  12:52           917,381 6 july 2019 python second day.ipynb\n",
      "10-07-2019  14:23             2,686 assignment.ipynb\n",
      "10-07-2019  15:20             3,760 assignment10.ipynb\n",
      "08-07-2019  17:17            13,467 day 8-07-2019.ipynb\n",
      "05-07-2019  17:26             1,165 EXAMPLES.ipynb\n",
      "11-07-2019  09:55                 0 file1.txt\n",
      "11-07-2019  10:02                24 file2.txt\n",
      "06-07-2019  09:25               555 Untitled.ipynb\n",
      "              12 File(s)        989,998 bytes\n",
      "               3 Dir(s)  919,740,534,784 bytes free\n"
     ]
    }
   ],
   "source": [
    "ls"
   ]
  },
  {
   "cell_type": "code",
   "execution_count": 42,
   "metadata": {},
   "outputs": [
    {
     "name": "stdout",
     "output_type": "stream",
     "text": [
      "new line 1\n",
      "new line 2\n",
      "new line 1\n",
      "new line 2\n",
      "\n"
     ]
    }
   ],
   "source": [
    "# Function to read of the file\n",
    "def readfiledata(filename):\n",
    "    f=open(filename,'r')\n",
    "    if f.mode == 'r':\n",
    "        x=f.read()\n",
    "        print(x)\n",
    "    f.close()\n",
    "    return\n",
    "readfiledata('file2.txt')"
   ]
  },
  {
   "cell_type": "code",
   "execution_count": 3,
   "metadata": {},
   "outputs": [
    {
     "name": "stdout",
     "output_type": "stream",
     "text": [
      "enter the file namedata.txt\n",
      "Enter the mode of the filea\n",
      "the data successfully written\n"
     ]
    }
   ],
   "source": [
    "# Function to read the file\n",
    "def fileoperation(filename,mode):\n",
    "    with open(filename,mode) as f:\n",
    "        if f.mode == 'r':\n",
    "            data=f.read()\n",
    "            print(data)\n",
    "        elif f.mode == 'a':\n",
    "            f.write('data to the file')\n",
    "            print('the data successfully written')\n",
    "    f.close()\n",
    "    return\n",
    "filename=input('enter the file name')\n",
    "mode=input('Enter the mode of the file')\n",
    "fileoperation(filename,mode)"
   ]
  },
  {
   "cell_type": "code",
   "execution_count": 26,
   "metadata": {},
   "outputs": [
    {
     "name": "stdout",
     "output_type": "stream",
     "text": [
      "Enter the file name : file2.txt\n",
      "enter the word :This\n"
     ]
    },
    {
     "data": {
      "text/plain": [
       "0"
      ]
     },
     "execution_count": 26,
     "metadata": {},
     "output_type": "execute_result"
    }
   ],
   "source": [
    "# Data Analysis\n",
    "# Word count program \n",
    "def wordcount(filename,word):\n",
    "    with open(filename,'r') as f:\n",
    "        if f.mode=='r':\n",
    "            x=f.read()\n",
    "            li=x.split() # It's splits the string with whitespace\n",
    "    cnt=li.count(word)\n",
    "    return cnt\n",
    "filename = input('Enter the file name : ')\n",
    "word = input('enter the word :') # Which word count you need\n",
    "wordcount(filename,mode)"
   ]
  },
  {
   "cell_type": "code",
   "execution_count": 29,
   "metadata": {},
   "outputs": [
    {
     "name": "stdout",
     "output_type": "stream",
     "text": [
      "Enter the filename:file2.txt\n"
     ]
    },
    {
     "data": {
      "text/plain": [
       "44"
      ]
     },
     "execution_count": 29,
     "metadata": {},
     "output_type": "execute_result"
    }
   ],
   "source": [
    "# Character count from the given file\n",
    "def charcount(filename):\n",
    "    with open(filename,'r') as f:\n",
    "        if f.mode=='r':\n",
    "            x=f.read()\n",
    "            li=list(x)\n",
    "    return len(li)\n",
    "filename=input('Enter the filename:')\n",
    "charcount(filename)"
   ]
  },
  {
   "cell_type": "code",
   "execution_count": 31,
   "metadata": {},
   "outputs": [
    {
     "name": "stdout",
     "output_type": "stream",
     "text": [
      "['python progr', 'mming']\n"
     ]
    }
   ],
   "source": [
    "s1=\"python programming\"\n",
    "print(s1.split('a'))"
   ]
  },
  {
   "cell_type": "code",
   "execution_count": 32,
   "metadata": {},
   "outputs": [
    {
     "name": "stdout",
     "output_type": "stream",
     "text": [
      "Enter the filenamefile2.txt\n"
     ]
    },
    {
     "data": {
      "text/plain": [
       "1"
      ]
     },
     "execution_count": 32,
     "metadata": {},
     "output_type": "execute_result"
    }
   ],
   "source": [
    "# Function to find the no of lines in the input file\n",
    "# Input -- filename(file2.txt)\n",
    "# Output -- No.of lines(12)\n",
    "def countoflines(filename):\n",
    "    with open(filename,'r') as f:\n",
    "        if f.mode=='r':\n",
    "            x=f.read()\n",
    "            li=x.split(\"/n\")\n",
    "    return len(li)\n",
    "filename = input('Enter the filename')\n",
    "countoflines(filename)"
   ]
  },
  {
   "cell_type": "code",
   "execution_count": 34,
   "metadata": {},
   "outputs": [
    {
     "name": "stdout",
     "output_type": "stream",
     "text": [
      "Enter the filename : file2.txt\n"
     ]
    },
    {
     "data": {
      "text/plain": [
       "'upper case =0,lower case =28'"
      ]
     },
     "execution_count": 34,
     "metadata": {},
     "output_type": "execute_result"
    }
   ],
   "source": [
    "# Function to print the upper and lower characters\n",
    "def casecount(filename):\n",
    "    cntupper=0\n",
    "    cntlower=0\n",
    "    with open(filename,'r') as f:\n",
    "        if f.mode == 'r':\n",
    "            x=f.read()\n",
    "            li=list(x)\n",
    "    for i in li:\n",
    "        if i.isupper():\n",
    "            cntupper+=1 #cntupper =cntupper+1\n",
    "        elif i.islower():\n",
    "            cntlower+=1 #cntlower =cntlower+1\n",
    "    output='upper case ={0},lower case ={1}'.format(cntupper,cntlower)\n",
    "    return output\n",
    "filename=input('Enter the filename : ')\n",
    "casecount(filename)"
   ]
  },
  {
   "cell_type": "markdown",
   "metadata": {},
   "source": [
    "### math,random,os\n",
    " * os package it contains the certain methods which works with os"
   ]
  },
  {
   "cell_type": "code",
   "execution_count": 36,
   "metadata": {},
   "outputs": [
    {
     "name": "stdout",
     "output_type": "stream",
     "text": [
      " Volume in drive C is Windows\n",
      " Volume Serial Number is A2C6-E07E\n",
      "\n",
      " Directory of C:\\Users\\brigh\\python\n",
      "\n",
      "11-07-2019  12:32            12,566 (11-07-2019)Day 10.ipynb\n",
      "11-07-2019  12:32    <DIR>          .\n",
      "11-07-2019  12:32    <DIR>          ..\n",
      "11-07-2019  09:20    <DIR>          .ipynb_checkpoints\n",
      "10-07-2019  12:04            16,209 09-07-2019.ipynb\n",
      "11-07-2019  09:20            19,596 10-07-2019(Day 9).ipynb\n",
      "05-07-2019  15:52             9,884 5 JULY 2019 -python intro.ipynb\n",
      "06-07-2019  12:52           917,381 6 july 2019 python second day.ipynb\n",
      "10-07-2019  14:23             2,686 assignment.ipynb\n",
      "11-07-2019  12:23             3,760 assignment10.ipynb\n",
      "11-07-2019  10:27                16 data.txt\n",
      "08-07-2019  17:17            13,467 day 8-07-2019.ipynb\n",
      "05-07-2019  17:26             1,165 EXAMPLES.ipynb\n",
      "11-07-2019  09:55                 0 file1.txt\n",
      "11-07-2019  10:09                48 file2.txt\n",
      "06-07-2019  09:25               555 Untitled.ipynb\n",
      "              13 File(s)        997,333 bytes\n",
      "               3 Dir(s)  919,620,710,400 bytes free\n"
     ]
    }
   ],
   "source": [
    "ls"
   ]
  },
  {
   "cell_type": "code",
   "execution_count": 41,
   "metadata": {},
   "outputs": [
    {
     "name": "stdout",
     "output_type": "stream",
     "text": [
      "C:\\Users\n"
     ]
    }
   ],
   "source": [
    "cd .."
   ]
  },
  {
   "cell_type": "code",
   "execution_count": 82,
   "metadata": {},
   "outputs": [
    {
     "name": "stdout",
     "output_type": "stream",
     "text": [
      "[WinError 3] The system cannot find the path specified: 'Desktop/Python2'\n",
      "C:\\Users\n"
     ]
    }
   ],
   "source": [
    "cd Desktop/Python2"
   ]
  },
  {
   "cell_type": "markdown",
   "metadata": {},
   "source": [
    "- Older version of pyhton -- os listdir()\n",
    "- New version -- os scandir() and pathlib.path()"
   ]
  },
  {
   "cell_type": "code",
   "execution_count": 85,
   "metadata": {},
   "outputs": [
    {
     "ename": "ImportError",
     "evalue": "cannot import name 'path' from 'pathlib' (C:\\ProgramData\\Anaconda3\\lib\\pathlib.py)",
     "output_type": "error",
     "traceback": [
      "\u001b[1;31m---------------------------------------------------------------------------\u001b[0m",
      "\u001b[1;31mImportError\u001b[0m                               Traceback (most recent call last)",
      "\u001b[1;32m<ipython-input-85-f24f7d93673c>\u001b[0m in \u001b[0;36m<module>\u001b[1;34m\u001b[0m\n\u001b[1;32m----> 1\u001b[1;33m \u001b[1;32mfrom\u001b[0m \u001b[0mpathlib\u001b[0m \u001b[1;32mimport\u001b[0m \u001b[0mpath\u001b[0m\u001b[1;33m\u001b[0m\u001b[1;33m\u001b[0m\u001b[0m\n\u001b[0m\u001b[0;32m      2\u001b[0m \u001b[0mli\u001b[0m\u001b[1;33m=\u001b[0m\u001b[0mpath\u001b[0m\u001b[1;33m(\u001b[0m\u001b[1;34m'Git/'\u001b[0m\u001b[1;33m)\u001b[0m\u001b[1;33m\u001b[0m\u001b[1;33m\u001b[0m\u001b[0m\n\u001b[0;32m      3\u001b[0m \u001b[1;32mfor\u001b[0m \u001b[0mi\u001b[0m \u001b[1;32min\u001b[0m \u001b[0mli\u001b[0m\u001b[1;33m.\u001b[0m\u001b[0miterdir\u001b[0m\u001b[1;33m(\u001b[0m\u001b[1;33m)\u001b[0m\u001b[1;33m:\u001b[0m\u001b[1;33m\u001b[0m\u001b[1;33m\u001b[0m\u001b[0m\n\u001b[0;32m      4\u001b[0m    \u001b[0mprint\u001b[0m\u001b[1;33m(\u001b[0m\u001b[0mi\u001b[0m\u001b[1;33m.\u001b[0m\u001b[0mname\u001b[0m\u001b[1;33m)\u001b[0m\u001b[1;33m\u001b[0m\u001b[1;33m\u001b[0m\u001b[0m\n",
      "\u001b[1;31mImportError\u001b[0m: cannot import name 'path' from 'pathlib' (C:\\ProgramData\\Anaconda3\\lib\\pathlib.py)"
     ]
    }
   ],
   "source": [
    "from pathlib import path\n",
    "li=path('Git/')\n",
    "for i in li.iterdir():\n",
    "   print(i.name)"
   ]
  },
  {
   "cell_type": "markdown",
   "metadata": {},
   "source": [
    "### Listing all files in a Dictionary\n"
   ]
  },
  {
   "cell_type": "code",
   "execution_count": 86,
   "metadata": {},
   "outputs": [
    {
     "name": "stdout",
     "output_type": "stream",
     "text": [
      " Volume in drive C is Windows\n",
      " Volume Serial Number is A2C6-E07E\n",
      "\n",
      " Directory of C:\\Users\n",
      "\n",
      "17-05-2019  20:05    <DIR>          .\n",
      "17-05-2019  20:05    <DIR>          ..\n",
      "05-07-2019  23:40    <DIR>          brigh\n",
      "17-05-2019  19:18    <DIR>          Public\n",
      "               0 File(s)              0 bytes\n",
      "               4 Dir(s)  919,517,143,040 bytes free\n"
     ]
    }
   ],
   "source": [
    "ls"
   ]
  },
  {
   "cell_type": "code",
   "execution_count": 87,
   "metadata": {},
   "outputs": [
    {
     "name": "stdout",
     "output_type": "stream",
     "text": [
      "C:\\Users\\brigh\n"
     ]
    }
   ],
   "source": [
    "cd brigh"
   ]
  },
  {
   "cell_type": "code",
   "execution_count": 96,
   "metadata": {},
   "outputs": [
    {
     "ename": "ImportError",
     "evalue": "cannot import name 'path' from 'pathlib' (C:\\ProgramData\\Anaconda3\\lib\\pathlib.py)",
     "output_type": "error",
     "traceback": [
      "\u001b[1;31m---------------------------------------------------------------------------\u001b[0m",
      "\u001b[1;31mImportError\u001b[0m                               Traceback (most recent call last)",
      "\u001b[1;32m<ipython-input-96-81d423725743>\u001b[0m in \u001b[0;36m<module>\u001b[1;34m\u001b[0m\n\u001b[1;32m----> 1\u001b[1;33m \u001b[1;32mfrom\u001b[0m \u001b[0mpathlib\u001b[0m \u001b[1;32mimport\u001b[0m \u001b[0mpath\u001b[0m\u001b[1;33m\u001b[0m\u001b[1;33m\u001b[0m\u001b[0m\n\u001b[0m\u001b[0;32m      2\u001b[0m \u001b[0mli\u001b[0m\u001b[1;33m=\u001b[0m\u001b[0mpath\u001b[0m\u001b[1;33m(\u001b[0m\u001b[1;34m'python/'\u001b[0m\u001b[1;33m)\u001b[0m\u001b[1;33m\u001b[0m\u001b[1;33m\u001b[0m\u001b[0m\n\u001b[0;32m      3\u001b[0m \u001b[1;32mfor\u001b[0m \u001b[0mi\u001b[0m \u001b[1;32min\u001b[0m \u001b[0mli\u001b[0m\u001b[1;33m.\u001b[0m\u001b[0miterdir\u001b[0m\u001b[1;33m(\u001b[0m\u001b[1;33m)\u001b[0m\u001b[1;33m:\u001b[0m\u001b[1;33m\u001b[0m\u001b[1;33m\u001b[0m\u001b[0m\n\u001b[0;32m      4\u001b[0m    \u001b[0mprint\u001b[0m\u001b[1;33m(\u001b[0m\u001b[0mi\u001b[0m\u001b[1;33m.\u001b[0m\u001b[0mname\u001b[0m\u001b[1;33m)\u001b[0m\u001b[1;33m\u001b[0m\u001b[1;33m\u001b[0m\u001b[0m\n",
      "\u001b[1;31mImportError\u001b[0m: cannot import name 'path' from 'pathlib' (C:\\ProgramData\\Anaconda3\\lib\\pathlib.py)"
     ]
    }
   ],
   "source": [
    "from pathlib import path\n",
    "li=path('python/')\n",
    "for i in li.iterdir():\n",
    "   print(i.name)"
   ]
  },
  {
   "cell_type": "code",
   "execution_count": 97,
   "metadata": {},
   "outputs": [
    {
     "ename": "AttributeError",
     "evalue": "module 'os' has no attribute 'lisdir'",
     "output_type": "error",
     "traceback": [
      "\u001b[1;31m---------------------------------------------------------------------------\u001b[0m",
      "\u001b[1;31mAttributeError\u001b[0m                            Traceback (most recent call last)",
      "\u001b[1;32m<ipython-input-97-419d4d211c08>\u001b[0m in \u001b[0;36m<module>\u001b[1;34m\u001b[0m\n\u001b[0;32m      1\u001b[0m \u001b[1;32mimport\u001b[0m \u001b[0mos\u001b[0m\u001b[1;33m\u001b[0m\u001b[1;33m\u001b[0m\u001b[0m\n\u001b[1;32m----> 2\u001b[1;33m \u001b[0mos\u001b[0m\u001b[1;33m.\u001b[0m\u001b[0mlisdir\u001b[0m\u001b[1;33m(\u001b[0m\u001b[1;34m'python/'\u001b[0m\u001b[1;33m)\u001b[0m\u001b[1;33m\u001b[0m\u001b[1;33m\u001b[0m\u001b[0m\n\u001b[0m",
      "\u001b[1;31mAttributeError\u001b[0m: module 'os' has no attribute 'lisdir'"
     ]
    }
   ],
   "source": [
    "import os\n",
    "os.lisdir('python/')"
   ]
  },
  {
   "cell_type": "code",
   "execution_count": 98,
   "metadata": {},
   "outputs": [
    {
     "data": {
      "text/plain": [
       "<nt.ScandirIterator at 0x1fd3c6e45a0>"
      ]
     },
     "execution_count": 98,
     "metadata": {},
     "output_type": "execute_result"
    }
   ],
   "source": [
    "import os\n",
    "os.scandir('python/')"
   ]
  },
  {
   "cell_type": "code",
   "execution_count": 99,
   "metadata": {},
   "outputs": [
    {
     "ename": "ImportError",
     "evalue": "cannot import name 'path' from 'pathlib' (C:\\ProgramData\\Anaconda3\\lib\\pathlib.py)",
     "output_type": "error",
     "traceback": [
      "\u001b[1;31m---------------------------------------------------------------------------\u001b[0m",
      "\u001b[1;31mImportError\u001b[0m                               Traceback (most recent call last)",
      "\u001b[1;32m<ipython-input-99-81d423725743>\u001b[0m in \u001b[0;36m<module>\u001b[1;34m\u001b[0m\n\u001b[1;32m----> 1\u001b[1;33m \u001b[1;32mfrom\u001b[0m \u001b[0mpathlib\u001b[0m \u001b[1;32mimport\u001b[0m \u001b[0mpath\u001b[0m\u001b[1;33m\u001b[0m\u001b[1;33m\u001b[0m\u001b[0m\n\u001b[0m\u001b[0;32m      2\u001b[0m \u001b[0mli\u001b[0m\u001b[1;33m=\u001b[0m\u001b[0mpath\u001b[0m\u001b[1;33m(\u001b[0m\u001b[1;34m'python/'\u001b[0m\u001b[1;33m)\u001b[0m\u001b[1;33m\u001b[0m\u001b[1;33m\u001b[0m\u001b[0m\n\u001b[0;32m      3\u001b[0m \u001b[1;32mfor\u001b[0m \u001b[0mi\u001b[0m \u001b[1;32min\u001b[0m \u001b[0mli\u001b[0m\u001b[1;33m.\u001b[0m\u001b[0miterdir\u001b[0m\u001b[1;33m(\u001b[0m\u001b[1;33m)\u001b[0m\u001b[1;33m:\u001b[0m\u001b[1;33m\u001b[0m\u001b[1;33m\u001b[0m\u001b[0m\n\u001b[0;32m      4\u001b[0m    \u001b[0mprint\u001b[0m\u001b[1;33m(\u001b[0m\u001b[0mi\u001b[0m\u001b[1;33m.\u001b[0m\u001b[0mname\u001b[0m\u001b[1;33m)\u001b[0m\u001b[1;33m\u001b[0m\u001b[1;33m\u001b[0m\u001b[0m\n",
      "\u001b[1;31mImportError\u001b[0m: cannot import name 'path' from 'pathlib' (C:\\ProgramData\\Anaconda3\\lib\\pathlib.py)"
     ]
    }
   ],
   "source": [
    "from pathlib import path\n",
    "li=path('python/')\n",
    "for i in li.iterdir():\n",
    "   print(i.name)"
   ]
  },
  {
   "cell_type": "code",
   "execution_count": 100,
   "metadata": {},
   "outputs": [
    {
     "name": "stdout",
     "output_type": "stream",
     "text": [
      " Volume in drive C is Windows\n",
      " Volume Serial Number is A2C6-E07E\n",
      "\n",
      " Directory of C:\\Users\\brigh\n",
      "\n",
      "05-07-2019  23:40    <DIR>          .\n",
      "05-07-2019  23:40    <DIR>          ..\n",
      "05-07-2019  10:56             1,650 .bash_history\n",
      "05-07-2019  23:26    <DIR>          .idlerc\n",
      "05-07-2019  16:35    <DIR>          .ipynb_checkpoints\n",
      "05-07-2019  11:38    <DIR>          .ipython\n",
      "05-07-2019  12:14    <DIR>          .jupyter\n",
      "05-07-2019  23:37    <DIR>          .PyCharmCE2019.1\n",
      "16-06-2019  13:56    <DIR>          3D Objects\n",
      "05-07-2019  10:40    <DIR>          Anaconda3\n",
      "02-06-2019  09:17    <DIR>          Apple\n",
      "16-06-2019  13:56    <DIR>          Contacts\n",
      "11-07-2019  12:43    <DIR>          Desktop\n",
      "05-07-2019  17:27    <DIR>          Documents\n",
      "11-07-2019  10:59    <DIR>          Downloads\n",
      "16-06-2019  13:56    <DIR>          Favorites\n",
      "16-06-2019  13:56    <DIR>          Links\n",
      "16-06-2019  13:56    <DIR>          Music\n",
      "04-07-2019  12:13    <DIR>          OneDrive\n",
      "16-06-2019  13:56    <DIR>          Pictures\n",
      "04-07-2019  10:26    <DIR>          problemsolving\n",
      "05-07-2019  23:40    <DIR>          PycharmProjects\n",
      "11-07-2019  14:13    <DIR>          python\n",
      "05-07-2019  16:34             9,884 python today intro.ipynb\n",
      "05-07-2019  16:35             9,884 python9989.ipynb\n",
      "16-06-2019  13:56    <DIR>          Saved Games\n",
      "16-06-2019  13:56    <DIR>          Searches\n",
      "16-06-2019  13:56    <DIR>          Videos\n",
      "               3 File(s)         21,418 bytes\n",
      "              25 Dir(s)  919,516,119,040 bytes free\n"
     ]
    }
   ],
   "source": [
    "ls"
   ]
  },
  {
   "cell_type": "code",
   "execution_count": 107,
   "metadata": {},
   "outputs": [
    {
     "name": "stdout",
     "output_type": "stream",
     "text": [
      "<DirEntry '(11-07-2019)Day 10.ipynb'>\n",
      "<DirEntry '.ipynb_checkpoints'>\n",
      "<DirEntry '09-07-2019.ipynb'>\n",
      "<DirEntry '10-07-2019(Day 9).ipynb'>\n",
      "<DirEntry '5 JULY 2019 -python intro.ipynb'>\n",
      "<DirEntry '6 july 2019 python second day.ipynb'>\n",
      "<DirEntry 'assignment.ipynb'>\n",
      "<DirEntry 'assignment10.ipynb'>\n",
      "<DirEntry 'data.txt'>\n",
      "<DirEntry 'day 8-07-2019.ipynb'>\n",
      "<DirEntry 'EXAMPLES.ipynb'>\n",
      "<DirEntry 'file1.txt'>\n",
      "<DirEntry 'file2.txt'>\n",
      "<DirEntry 'Untitled.ipynb'>\n"
     ]
    }
   ],
   "source": [
    "li=os.scandir('python/')\n",
    "for i in li:\n",
    "    print(i)"
   ]
  },
  {
   "cell_type": "code",
   "execution_count": 123,
   "metadata": {},
   "outputs": [
    {
     "name": "stdout",
     "output_type": "stream",
     "text": [
      "(11-07-2019)Day 10.ipynb\n",
      ".ipynb_checkpoints\n",
      "09-07-2019.ipynb\n",
      "10-07-2019(Day 9).ipynb\n",
      "5 JULY 2019 -python intro.ipynb\n",
      "6 july 2019 python second day.ipynb\n",
      "assignment.ipynb\n",
      "assignment10.ipynb\n",
      "data.txt\n",
      "day 8-07-2019.ipynb\n",
      "EXAMPLES.ipynb\n",
      "file1.txt\n",
      "file2.txt\n",
      "Untitled.ipynb\n"
     ]
    }
   ],
   "source": [
    "from pathlib import Path\n",
    "li=Path('python/')\n",
    "for i in li.iterdir():\n",
    "    print(i.name)"
   ]
  },
  {
   "cell_type": "code",
   "execution_count": 122,
   "metadata": {},
   "outputs": [
    {
     "name": "stdout",
     "output_type": "stream",
     "text": [
      "(11-07-2019)Day 10.ipynb\n",
      "09-07-2019.ipynb\n",
      "10-07-2019(Day 9).ipynb\n",
      "5 JULY 2019 -python intro.ipynb\n",
      "6 july 2019 python second day.ipynb\n",
      "assignment.ipynb\n",
      "assignment10.ipynb\n",
      "data.txt\n",
      "day 8-07-2019.ipynb\n",
      "EXAMPLES.ipynb\n",
      "file1.txt\n",
      "file2.txt\n",
      "Untitled.ipynb\n"
     ]
    }
   ],
   "source": [
    "import os\n",
    "dirpath=\"python/\"\n",
    "for i in os.listdir(dirpath):\n",
    "    if os.path.isfile(os.path.join(dirpath,i)):\n",
    "        print(i)"
   ]
  },
  {
   "cell_type": "code",
   "execution_count": 124,
   "metadata": {},
   "outputs": [
    {
     "data": {
      "text/plain": [
       "'C:\\\\Users\\\\brigh'"
      ]
     },
     "execution_count": 124,
     "metadata": {},
     "output_type": "execute_result"
    }
   ],
   "source": [
    "pwd"
   ]
  },
  {
   "cell_type": "code",
   "execution_count": 131,
   "metadata": {},
   "outputs": [
    {
     "name": "stdout",
     "output_type": "stream",
     "text": [
      "(11-07-2019)Day 10.ipynb\n",
      "09-07-2019.ipynb\n",
      "10-07-2019(Day 9).ipynb\n",
      "5 JULY 2019 -python intro.ipynb\n",
      "6 july 2019 python second day.ipynb\n",
      "assignment.ipynb\n",
      "assignment10.ipynb\n",
      "data.txt\n",
      "day 8-07-2019.ipynb\n",
      "EXAMPLES.ipynb\n",
      "file1.txt\n",
      "file2.txt\n",
      "Untitled.ipynb\n"
     ]
    }
   ],
   "source": [
    "dirpath='python/'\n",
    "with os.scandir(dirpath) as f:\n",
    "    for i in f:\n",
    "        if i.is_file():\n",
    "            print(i.name)"
   ]
  },
  {
   "cell_type": "markdown",
   "metadata": {},
   "source": [
    "### Listing Subdirectories"
   ]
  },
  {
   "cell_type": "code",
   "execution_count": 140,
   "metadata": {},
   "outputs": [
    {
     "name": "stdout",
     "output_type": "stream",
     "text": [
      ".ipynb_checkpoints\n"
     ]
    }
   ],
   "source": [
    "dirpath = 'python/'\n",
    "for i in os.listdir(dirpath):\n",
    "    if os.path.isdir(os.path.join(dirpath,i)):\n",
    "        print(i)"
   ]
  },
  {
   "cell_type": "code",
   "execution_count": 143,
   "metadata": {},
   "outputs": [
    {
     "name": "stdout",
     "output_type": "stream",
     "text": [
      ".ipynb_checkpoints\n"
     ]
    }
   ],
   "source": [
    "from pathlib import Path\n",
    "dirPath=Path('python/')\n",
    "for i in dirPath.iterdir():\n",
    "    if i.is_dir():\n",
    "        print(i.name)"
   ]
  },
  {
   "cell_type": "markdown",
   "metadata": {},
   "source": [
    "### Creating a single Directory"
   ]
  },
  {
   "cell_type": "code",
   "execution_count": 145,
   "metadata": {},
   "outputs": [
    {
     "ename": "FileExistsError",
     "evalue": "[WinError 183] Cannot create a file when that file already exists: 'SingleDirectory'",
     "output_type": "error",
     "traceback": [
      "\u001b[1;31m---------------------------------------------------------------------------\u001b[0m",
      "\u001b[1;31mFileExistsError\u001b[0m                           Traceback (most recent call last)",
      "\u001b[1;32m<ipython-input-145-2817d40a7fe1>\u001b[0m in \u001b[0;36m<module>\u001b[1;34m\u001b[0m\n\u001b[1;32m----> 1\u001b[1;33m \u001b[0mos\u001b[0m\u001b[1;33m.\u001b[0m\u001b[0mmkdir\u001b[0m\u001b[1;33m(\u001b[0m\u001b[1;34m'SingleDirectory'\u001b[0m\u001b[1;33m)\u001b[0m\u001b[1;33m\u001b[0m\u001b[1;33m\u001b[0m\u001b[0m\n\u001b[0m",
      "\u001b[1;31mFileExistsError\u001b[0m: [WinError 183] Cannot create a file when that file already exists: 'SingleDirectory'"
     ]
    }
   ],
   "source": [
    "os.mkdir('SingleDirectory')"
   ]
  },
  {
   "cell_type": "code",
   "execution_count": 152,
   "metadata": {},
   "outputs": [
    {
     "ename": "FileExistsError",
     "evalue": "[WinError 183] Cannot create a file when that file already exists: 'Testfolder'",
     "output_type": "error",
     "traceback": [
      "\u001b[1;31m---------------------------------------------------------------------------\u001b[0m",
      "\u001b[1;31mFileExistsError\u001b[0m                           Traceback (most recent call last)",
      "\u001b[1;32m<ipython-input-152-2acba741332f>\u001b[0m in \u001b[0;36m<module>\u001b[1;34m\u001b[0m\n\u001b[0;32m      1\u001b[0m \u001b[1;32mimport\u001b[0m \u001b[0mpathlib\u001b[0m\u001b[1;33m\u001b[0m\u001b[1;33m\u001b[0m\u001b[0m\n\u001b[0;32m      2\u001b[0m \u001b[0mp\u001b[0m\u001b[1;33m=\u001b[0m\u001b[0mpathlib\u001b[0m\u001b[1;33m.\u001b[0m\u001b[0mPath\u001b[0m\u001b[1;33m(\u001b[0m\u001b[1;34m'Testfolder'\u001b[0m\u001b[1;33m)\u001b[0m\u001b[1;33m\u001b[0m\u001b[1;33m\u001b[0m\u001b[0m\n\u001b[1;32m----> 3\u001b[1;33m \u001b[0mp\u001b[0m\u001b[1;33m.\u001b[0m\u001b[0mmkdir\u001b[0m\u001b[1;33m(\u001b[0m\u001b[1;33m)\u001b[0m\u001b[1;33m\u001b[0m\u001b[1;33m\u001b[0m\u001b[0m\n\u001b[0m",
      "\u001b[1;32mC:\\ProgramData\\Anaconda3\\lib\\pathlib.py\u001b[0m in \u001b[0;36mmkdir\u001b[1;34m(self, mode, parents, exist_ok)\u001b[0m\n\u001b[0;32m   1249\u001b[0m             \u001b[0mself\u001b[0m\u001b[1;33m.\u001b[0m\u001b[0m_raise_closed\u001b[0m\u001b[1;33m(\u001b[0m\u001b[1;33m)\u001b[0m\u001b[1;33m\u001b[0m\u001b[1;33m\u001b[0m\u001b[0m\n\u001b[0;32m   1250\u001b[0m         \u001b[1;32mtry\u001b[0m\u001b[1;33m:\u001b[0m\u001b[1;33m\u001b[0m\u001b[1;33m\u001b[0m\u001b[0m\n\u001b[1;32m-> 1251\u001b[1;33m             \u001b[0mself\u001b[0m\u001b[1;33m.\u001b[0m\u001b[0m_accessor\u001b[0m\u001b[1;33m.\u001b[0m\u001b[0mmkdir\u001b[0m\u001b[1;33m(\u001b[0m\u001b[0mself\u001b[0m\u001b[1;33m,\u001b[0m \u001b[0mmode\u001b[0m\u001b[1;33m)\u001b[0m\u001b[1;33m\u001b[0m\u001b[1;33m\u001b[0m\u001b[0m\n\u001b[0m\u001b[0;32m   1252\u001b[0m         \u001b[1;32mexcept\u001b[0m \u001b[0mFileNotFoundError\u001b[0m\u001b[1;33m:\u001b[0m\u001b[1;33m\u001b[0m\u001b[1;33m\u001b[0m\u001b[0m\n\u001b[0;32m   1253\u001b[0m             \u001b[1;32mif\u001b[0m \u001b[1;32mnot\u001b[0m \u001b[0mparents\u001b[0m \u001b[1;32mor\u001b[0m \u001b[0mself\u001b[0m\u001b[1;33m.\u001b[0m\u001b[0mparent\u001b[0m \u001b[1;33m==\u001b[0m \u001b[0mself\u001b[0m\u001b[1;33m:\u001b[0m\u001b[1;33m\u001b[0m\u001b[1;33m\u001b[0m\u001b[0m\n",
      "\u001b[1;31mFileExistsError\u001b[0m: [WinError 183] Cannot create a file when that file already exists: 'Testfolder'"
     ]
    }
   ],
   "source": [
    "import pathlib\n",
    "p=pathlib.Path('Testfolder')\n",
    "p.mkdir()"
   ]
  },
  {
   "cell_type": "code",
   "execution_count": 153,
   "metadata": {},
   "outputs": [
    {
     "name": "stdout",
     "output_type": "stream",
     "text": [
      " Volume in drive C is Windows\n",
      " Volume Serial Number is A2C6-E07E\n",
      "\n",
      " Directory of C:\\Users\\brigh\n",
      "\n",
      "11-07-2019  14:47    <DIR>          .\n",
      "11-07-2019  14:47    <DIR>          ..\n",
      "05-07-2019  10:56             1,650 .bash_history\n",
      "05-07-2019  23:26    <DIR>          .idlerc\n",
      "05-07-2019  16:35    <DIR>          .ipynb_checkpoints\n",
      "05-07-2019  11:38    <DIR>          .ipython\n",
      "05-07-2019  12:14    <DIR>          .jupyter\n",
      "05-07-2019  23:37    <DIR>          .PyCharmCE2019.1\n",
      "16-06-2019  13:56    <DIR>          3D Objects\n",
      "05-07-2019  10:40    <DIR>          Anaconda3\n",
      "02-06-2019  09:17    <DIR>          Apple\n",
      "16-06-2019  13:56    <DIR>          Contacts\n",
      "11-07-2019  12:43    <DIR>          Desktop\n",
      "05-07-2019  17:27    <DIR>          Documents\n",
      "11-07-2019  10:59    <DIR>          Downloads\n",
      "16-06-2019  13:56    <DIR>          Favorites\n",
      "16-06-2019  13:56    <DIR>          Links\n",
      "16-06-2019  13:56    <DIR>          Music\n",
      "04-07-2019  12:13    <DIR>          OneDrive\n",
      "16-06-2019  13:56    <DIR>          Pictures\n",
      "04-07-2019  10:26    <DIR>          problemsolving\n",
      "05-07-2019  23:40    <DIR>          PycharmProjects\n",
      "11-07-2019  14:46    <DIR>          python\n",
      "05-07-2019  16:34             9,884 python today intro.ipynb\n",
      "05-07-2019  16:35             9,884 python9989.ipynb\n",
      "16-06-2019  13:56    <DIR>          Saved Games\n",
      "16-06-2019  13:56    <DIR>          Searches\n",
      "11-07-2019  14:44    <DIR>          SingleDirectory\n",
      "11-07-2019  14:47    <DIR>          Testfolder\n",
      "16-06-2019  13:56    <DIR>          Videos\n",
      "               3 File(s)         21,418 bytes\n",
      "              27 Dir(s)  919,513,948,160 bytes free\n"
     ]
    }
   ],
   "source": [
    "ls"
   ]
  },
  {
   "cell_type": "markdown",
   "metadata": {},
   "source": [
    "### Creating the multiple directories"
   ]
  },
  {
   "cell_type": "code",
   "execution_count": 158,
   "metadata": {},
   "outputs": [
    {
     "ename": "FileExistsError",
     "evalue": "[WinError 183] Cannot create a file when that file already exists: '2019/july/11'",
     "output_type": "error",
     "traceback": [
      "\u001b[1;31m---------------------------------------------------------------------------\u001b[0m",
      "\u001b[1;31mFileExistsError\u001b[0m                           Traceback (most recent call last)",
      "\u001b[1;32m<ipython-input-158-8441ac7d67b5>\u001b[0m in \u001b[0;36m<module>\u001b[1;34m\u001b[0m\n\u001b[0;32m      1\u001b[0m \u001b[1;32mimport\u001b[0m \u001b[0mos\u001b[0m\u001b[1;33m\u001b[0m\u001b[1;33m\u001b[0m\u001b[0m\n\u001b[1;32m----> 2\u001b[1;33m \u001b[0mos\u001b[0m\u001b[1;33m.\u001b[0m\u001b[0mmakedirs\u001b[0m\u001b[1;33m(\u001b[0m\u001b[1;34m'2019/july/11'\u001b[0m\u001b[1;33m)\u001b[0m\u001b[1;33m\u001b[0m\u001b[1;33m\u001b[0m\u001b[0m\n\u001b[0m",
      "\u001b[1;32mC:\\ProgramData\\Anaconda3\\lib\\os.py\u001b[0m in \u001b[0;36mmakedirs\u001b[1;34m(name, mode, exist_ok)\u001b[0m\n\u001b[0;32m    219\u001b[0m             \u001b[1;32mreturn\u001b[0m\u001b[1;33m\u001b[0m\u001b[1;33m\u001b[0m\u001b[0m\n\u001b[0;32m    220\u001b[0m     \u001b[1;32mtry\u001b[0m\u001b[1;33m:\u001b[0m\u001b[1;33m\u001b[0m\u001b[1;33m\u001b[0m\u001b[0m\n\u001b[1;32m--> 221\u001b[1;33m         \u001b[0mmkdir\u001b[0m\u001b[1;33m(\u001b[0m\u001b[0mname\u001b[0m\u001b[1;33m,\u001b[0m \u001b[0mmode\u001b[0m\u001b[1;33m)\u001b[0m\u001b[1;33m\u001b[0m\u001b[1;33m\u001b[0m\u001b[0m\n\u001b[0m\u001b[0;32m    222\u001b[0m     \u001b[1;32mexcept\u001b[0m \u001b[0mOSError\u001b[0m\u001b[1;33m:\u001b[0m\u001b[1;33m\u001b[0m\u001b[1;33m\u001b[0m\u001b[0m\n\u001b[0;32m    223\u001b[0m         \u001b[1;31m# Cannot rely on checking for EEXIST, since the operating system\u001b[0m\u001b[1;33m\u001b[0m\u001b[1;33m\u001b[0m\u001b[1;33m\u001b[0m\u001b[0m\n",
      "\u001b[1;31mFileExistsError\u001b[0m: [WinError 183] Cannot create a file when that file already exists: '2019/july/11'"
     ]
    }
   ],
   "source": [
    "import os\n",
    "os.makedirs('2019/july/11')"
   ]
  },
  {
   "cell_type": "code",
   "execution_count": 159,
   "metadata": {},
   "outputs": [
    {
     "name": "stdout",
     "output_type": "stream",
     "text": [
      " Volume in drive C is Windows\n",
      " Volume Serial Number is A2C6-E07E\n",
      "\n",
      " Directory of C:\\Users\\brigh\n",
      "\n",
      "11-07-2019  15:00    <DIR>          .\n",
      "11-07-2019  15:00    <DIR>          ..\n",
      "05-07-2019  10:56             1,650 .bash_history\n",
      "05-07-2019  23:26    <DIR>          .idlerc\n",
      "05-07-2019  16:35    <DIR>          .ipynb_checkpoints\n",
      "05-07-2019  11:38    <DIR>          .ipython\n",
      "05-07-2019  12:14    <DIR>          .jupyter\n",
      "05-07-2019  23:37    <DIR>          .PyCharmCE2019.1\n",
      "11-07-2019  15:00    <DIR>          2019\n",
      "16-06-2019  13:56    <DIR>          3D Objects\n",
      "05-07-2019  10:40    <DIR>          Anaconda3\n",
      "02-06-2019  09:17    <DIR>          Apple\n",
      "16-06-2019  13:56    <DIR>          Contacts\n",
      "11-07-2019  12:43    <DIR>          Desktop\n",
      "05-07-2019  17:27    <DIR>          Documents\n",
      "11-07-2019  10:59    <DIR>          Downloads\n",
      "16-06-2019  13:56    <DIR>          Favorites\n",
      "16-06-2019  13:56    <DIR>          Links\n",
      "16-06-2019  13:56    <DIR>          Music\n",
      "04-07-2019  12:13    <DIR>          OneDrive\n",
      "16-06-2019  13:56    <DIR>          Pictures\n",
      "04-07-2019  10:26    <DIR>          problemsolving\n",
      "05-07-2019  23:40    <DIR>          PycharmProjects\n",
      "11-07-2019  14:54    <DIR>          python\n",
      "05-07-2019  16:34             9,884 python today intro.ipynb\n",
      "05-07-2019  16:35             9,884 python9989.ipynb\n",
      "16-06-2019  13:56    <DIR>          Saved Games\n",
      "16-06-2019  13:56    <DIR>          Searches\n",
      "11-07-2019  14:44    <DIR>          SingleDirectory\n",
      "11-07-2019  14:47    <DIR>          Testfolder\n",
      "16-06-2019  13:56    <DIR>          Videos\n",
      "               3 File(s)         21,418 bytes\n",
      "              28 Dir(s)  919,511,379,968 bytes free\n"
     ]
    }
   ],
   "source": [
    "ls"
   ]
  },
  {
   "cell_type": "markdown",
   "metadata": {},
   "source": [
    "### Filename Pattern Matching\n"
   ]
  },
  {
   "cell_type": "code",
   "execution_count": 160,
   "metadata": {},
   "outputs": [
    {
     "name": "stdout",
     "output_type": "stream",
     "text": [
      "C:\\Users\\brigh\n"
     ]
    }
   ],
   "source": [
    "cd"
   ]
  },
  {
   "cell_type": "code",
   "execution_count": 161,
   "metadata": {
    "scrolled": false
   },
   "outputs": [
    {
     "name": "stdout",
     "output_type": "stream",
     "text": [
      "(11-07-2019)Day 10.ipynb\n",
      "09-07-2019.ipynb\n",
      "10-07-2019(Day 9).ipynb\n",
      "5 JULY 2019 -python intro.ipynb\n",
      "6 july 2019 python second day.ipynb\n",
      "assignment.ipynb\n",
      "assignment10.ipynb\n",
      "day 8-07-2019.ipynb\n",
      "EXAMPLES.ipynb\n",
      "Untitled.ipynb\n"
     ]
    }
   ],
   "source": [
    "import os\n",
    "dirPath='python/'\n",
    "for f_name in os.listdir(dirPath):\n",
    "    if f_name.endswith('.ipynb'):\n",
    "        print(f_name)"
   ]
  },
  {
   "cell_type": "markdown",
   "metadata": {},
   "source": [
    "### Deleting Files and Directories"
   ]
  },
  {
   "cell_type": "code",
   "execution_count": 162,
   "metadata": {},
   "outputs": [
    {
     "ename": "NameError",
     "evalue": "name 'data_file' is not defined",
     "output_type": "error",
     "traceback": [
      "\u001b[1;31m---------------------------------------------------------------------------\u001b[0m",
      "\u001b[1;31mNameError\u001b[0m                                 Traceback (most recent call last)",
      "\u001b[1;32m<ipython-input-162-e88719b3f93a>\u001b[0m in \u001b[0;36m<module>\u001b[1;34m\u001b[0m\n\u001b[0;32m      1\u001b[0m \u001b[1;32mimport\u001b[0m \u001b[0mos\u001b[0m\u001b[1;33m\u001b[0m\u001b[1;33m\u001b[0m\u001b[0m\n\u001b[0;32m      2\u001b[0m \u001b[0mdata_files\u001b[0m\u001b[1;33m=\u001b[0m\u001b[1;34m'2019'\u001b[0m\u001b[1;33m\u001b[0m\u001b[1;33m\u001b[0m\u001b[0m\n\u001b[1;32m----> 3\u001b[1;33m \u001b[0mos\u001b[0m\u001b[1;33m.\u001b[0m\u001b[0mremove\u001b[0m\u001b[1;33m(\u001b[0m\u001b[0mdata_file\u001b[0m\u001b[1;33m)\u001b[0m\u001b[1;33m\u001b[0m\u001b[1;33m\u001b[0m\u001b[0m\n\u001b[0m",
      "\u001b[1;31mNameError\u001b[0m: name 'data_file' is not defined"
     ]
    }
   ],
   "source": [
    "import os \n",
    "data_files='2019'\n",
    "os.remove(data_file)"
   ]
  },
  {
   "cell_type": "code",
   "execution_count": 163,
   "metadata": {},
   "outputs": [
    {
     "name": "stdout",
     "output_type": "stream",
     "text": [
      "C:\\Users\\brigh\\2019\n"
     ]
    }
   ],
   "source": [
    "cd 2019"
   ]
  },
  {
   "cell_type": "code",
   "execution_count": 164,
   "metadata": {},
   "outputs": [
    {
     "name": "stdout",
     "output_type": "stream",
     "text": [
      " Volume in drive C is Windows\n",
      " Volume Serial Number is A2C6-E07E\n",
      "\n",
      " Directory of C:\\Users\\brigh\\2019\n",
      "\n",
      "11-07-2019  15:00    <DIR>          .\n",
      "11-07-2019  15:00    <DIR>          ..\n",
      "11-07-2019  15:00    <DIR>          july\n",
      "               0 File(s)              0 bytes\n",
      "               3 Dir(s)  919,519,019,008 bytes free\n"
     ]
    }
   ],
   "source": [
    "ls"
   ]
  },
  {
   "cell_type": "code",
   "execution_count": 165,
   "metadata": {},
   "outputs": [
    {
     "name": "stdout",
     "output_type": "stream",
     "text": [
      "C:\\Users\\brigh\n"
     ]
    }
   ],
   "source": [
    "cd .."
   ]
  },
  {
   "cell_type": "code",
   "execution_count": 166,
   "metadata": {},
   "outputs": [],
   "source": [
    "data_dir='Testfolder'\n",
    "os.rmdir(data_dir)"
   ]
  },
  {
   "cell_type": "code",
   "execution_count": 167,
   "metadata": {},
   "outputs": [
    {
     "name": "stdout",
     "output_type": "stream",
     "text": [
      " Volume in drive C is Windows\n",
      " Volume Serial Number is A2C6-E07E\n",
      "\n",
      " Directory of C:\\Users\\brigh\n",
      "\n",
      "11-07-2019  15:24    <DIR>          .\n",
      "11-07-2019  15:24    <DIR>          ..\n",
      "05-07-2019  10:56             1,650 .bash_history\n",
      "05-07-2019  23:26    <DIR>          .idlerc\n",
      "05-07-2019  16:35    <DIR>          .ipynb_checkpoints\n",
      "05-07-2019  11:38    <DIR>          .ipython\n",
      "05-07-2019  12:14    <DIR>          .jupyter\n",
      "05-07-2019  23:37    <DIR>          .PyCharmCE2019.1\n",
      "11-07-2019  15:00    <DIR>          2019\n",
      "16-06-2019  13:56    <DIR>          3D Objects\n",
      "05-07-2019  10:40    <DIR>          Anaconda3\n",
      "02-06-2019  09:17    <DIR>          Apple\n",
      "16-06-2019  13:56    <DIR>          Contacts\n",
      "11-07-2019  12:43    <DIR>          Desktop\n",
      "05-07-2019  17:27    <DIR>          Documents\n",
      "11-07-2019  10:59    <DIR>          Downloads\n",
      "16-06-2019  13:56    <DIR>          Favorites\n",
      "16-06-2019  13:56    <DIR>          Links\n",
      "16-06-2019  13:56    <DIR>          Music\n",
      "04-07-2019  12:13    <DIR>          OneDrive\n",
      "16-06-2019  13:56    <DIR>          Pictures\n",
      "04-07-2019  10:26    <DIR>          problemsolving\n",
      "05-07-2019  23:40    <DIR>          PycharmProjects\n",
      "11-07-2019  15:22    <DIR>          python\n",
      "05-07-2019  16:34             9,884 python today intro.ipynb\n",
      "05-07-2019  16:35             9,884 python9989.ipynb\n",
      "16-06-2019  13:56    <DIR>          Saved Games\n",
      "16-06-2019  13:56    <DIR>          Searches\n",
      "11-07-2019  14:44    <DIR>          SingleDirectory\n",
      "16-06-2019  13:56    <DIR>          Videos\n",
      "               3 File(s)         21,418 bytes\n",
      "              27 Dir(s)  919,517,945,856 bytes free\n"
     ]
    }
   ],
   "source": [
    "ls"
   ]
  },
  {
   "cell_type": "code",
   "execution_count": 170,
   "metadata": {},
   "outputs": [],
   "source": [
    "import shutil\n",
    "data_dir='2019'\n",
    "shutil.rmtree(data_dir)"
   ]
  },
  {
   "cell_type": "markdown",
   "metadata": {},
   "source": [
    "### Regular Expressions\n",
    " - Used to specific pattern matching\n",
    " - Symbolic notations of pattern\n",
    "              - Patterns(RE) represents set of teh values\n"
   ]
  }
 ],
 "metadata": {
  "kernelspec": {
   "display_name": "Python 3",
   "language": "python",
   "name": "python3"
  },
  "language_info": {
   "codemirror_mode": {
    "name": "ipython",
    "version": 3
   },
   "file_extension": ".py",
   "mimetype": "text/x-python",
   "name": "python",
   "nbconvert_exporter": "python",
   "pygments_lexer": "ipython3",
   "version": "3.7.3"
  }
 },
 "nbformat": 4,
 "nbformat_minor": 2
}
